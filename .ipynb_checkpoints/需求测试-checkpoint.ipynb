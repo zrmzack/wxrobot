{
 "cells": [
  {
   "cell_type": "code",
   "execution_count": null,
   "id": "b80a9503",
   "metadata": {},
   "outputs": [],
   "source": [
    "# 例：题目1000瓶水里有1瓶毒药，最少几只老鼠可以试出来\n",
    "# n填1000"
   ]
  }
 ],
 "metadata": {
  "kernelspec": {
   "display_name": "Python 3",
   "language": "python",
   "name": "python3"
  },
  "language_info": {
   "codemirror_mode": {
    "name": "ipython",
    "version": 3
   },
   "file_extension": ".py",
   "mimetype": "text/x-python",
   "name": "python",
   "nbconvert_exporter": "python",
   "pygments_lexer": "ipython3",
   "version": "3.6.13"
  }
 },
 "nbformat": 4,
 "nbformat_minor": 5
}
