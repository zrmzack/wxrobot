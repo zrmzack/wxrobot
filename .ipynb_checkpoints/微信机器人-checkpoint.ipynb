{
 "cells": [
  {
   "cell_type": "code",
   "execution_count": 1,
   "metadata": {},
   "outputs": [],
   "source": [
    "# import gensim\n",
    "# import jieba\n",
    "# import numpy as np\n",
    "# from scipy.linalg import norm\n",
    "# file_path= 'news_12g_baidubaike_20g_novel_90g_embedding_64.bin'\n",
    "# model = gensim.models.KeyedVectors.load_word2vec_format(file_path, binary=True)\n",
    "# def vector_similarity(s1, s2):\n",
    "#     def sentence_vector(s):\n",
    "#         words = jieba.lcut(s)\n",
    "#         v = np.zeros(64)\n",
    "#         for word in words:\n",
    "#             v += model[word]\n",
    "#         v /= len(words)\n",
    "#         return v\n",
    "#     v1, v2 = sentence_vector(s1), sentence_vector(s2)\n",
    "#     return np.dot(v1, v2) / (norm(v1) * norm(v2))\n",
    "\n",
    "# print('模型加载完成')"
   ]
  },
  {
   "cell_type": "code",
   "execution_count": 2,
   "metadata": {},
   "outputs": [],
   "source": [
    "from sklearn.feature_extraction.text import TfidfVectorizer\n",
    "import numpy as np\n",
    "from scipy.linalg import norm\n",
    "def tfidf_similarity(s1, s2):\n",
    "    def add_space(s):\n",
    "        return ' '.join(list(s))\n",
    "    \n",
    "    # 将字中间加入空格\n",
    "    s1, s2 = add_space(s1), add_space(s2)\n",
    "    # 转化为TF矩阵\n",
    "    cv = TfidfVectorizer(tokenizer=lambda s: s.split())\n",
    "    corpus = [s1, s2]\n",
    "    vectors = cv.fit_transform(corpus).toarray()\n",
    "    # 计算TF系数\n",
    "    return np.dot(vectors[0], vectors[1]) / (norm(vectors[0]) * norm(vectors[1]))\n"
   ]
  },
  {
   "cell_type": "code",
   "execution_count": 3,
   "metadata": {},
   "outputs": [],
   "source": [
    "def cal_diff_setence_2(info,redis_list):\n",
    "    marks=dict()\n",
    "    mark=list()\n",
    "    for i in redis_list: \n",
    "        score=tfidf_similarity(info, i)\n",
    "        mark.append(score)\n",
    "        marks[i]=score\n",
    "    if(max(mark)<0.4):\n",
    "        return None\n",
    "    else:\n",
    "        return (max(marks, key=marks.get))"
   ]
  },
  {
   "cell_type": "code",
   "execution_count": 4,
   "metadata": {},
   "outputs": [
    {
     "name": "stdout",
     "output_type": "stream",
     "text": [
      "█\r"
     ]
    },
    {
     "name": "stderr",
     "output_type": "stream",
     "text": [
      "Getting uuid of QR code.\n",
      "Downloading QR code.\n",
      "Please scan the QR code to log in.\n",
      "Please press confirm on your phone.\n",
      "Loading the contact, this may take a little while.\n",
      "Login successfully as 我是机器人\n"
     ]
    }
   ],
   "source": [
    "# map 匹配回答\n",
    "from wxpy import *\n",
    "import redis\n",
    "import pandas as pd\n",
    "# 初始化redis\n",
    "r = redis.StrictRedis(host='localhost', port=6379, db=0,decode_responses=True)\n",
    "# 初始化机器人\n",
    "bot = Bot()\n",
    "bot.enable_puid('wxpy_puid.pkl')\n",
    "\n",
    "def redis_to_csv():\n",
    "    alldata=size=r.llen(\"group_info\")\n",
    "    name=[]\n",
    "    info=[]\n",
    "    for i in range(0,size):\n",
    "        temp=r.lindex(\"group_info\",i)\n",
    "        temp_name=temp.split(':')[0]\n",
    "        temp_info=temp.split(':')[1]\n",
    "        name.append(temp_name)\n",
    "        info.append(temp_info)\n",
    "    dataframe = pd.DataFrame({'name':name,'info':info})\n",
    "    return dataframe\n",
    "# 插入题库\n",
    "# 插入方式，问题：你好，请问你叫什么？  答案：我叫张润民\n",
    "def take_Q_S(info):\n",
    "    try:\n",
    "        first_index=pattern.search(info).span(0)[1]+1\n",
    "        tempxx=(info[first_index:])\n",
    "        second_index=tempxx.find('答')+first_index\n",
    "        question=info[first_index:second_index].strip()\n",
    "        answer=info[second_index+3:].strip()\n",
    "        print(question,answer)\n",
    "    except:\n",
    "        print (\"录入问题出错\")\n",
    "    return question,answer\n",
    "# 数据插入map\n",
    "def insert_map_data(question,answer):\n",
    "    r.hset(\"QandA\", question, answer)\n",
    "    print('问题已经录入成功')\n",
    "# 获取答案\n",
    "def get_answer(question):\n",
    "    redis_list_key=list(r.hgetall(\"QandA\") .keys())\n",
    "    answer=cal_diff_setence_2(question,redis_list_key)\n",
    "    if answer==None:\n",
    "        return None\n",
    "    else:\n",
    "        return r.hget(\"QandA\", answer)\n",
    "# 删除数据\n",
    "# def delete_data(info):\n",
    "#     r.hdel(\"QandA\",info)\n",
    "#     print('删除成功')\n",
    "# info store in redis as list\n",
    "def group_info_store(info):\n",
    "    r.rpush('group_info',info)\n",
    "# export group info\n",
    "def group_info_export(username):\n",
    "    \n",
    "#     size=r.llen(\"group_info\") \n",
    "#     for i in range(0,size):\n",
    "#         print(r.lindex(\"group_info\",i))\n",
    "    dataframe=redis_to_csv()\n",
    "    dataframe.to_csv(username+'.csv',encoding='utf-8')\n",
    "    \n",
    "# delete group info\n",
    "def remove_group_info():\n",
    "    size=r.llen(\"group_info\") \n",
    "    for i in range(0,size):\n",
    "        r.brpop('group_info')\n",
    "# deal info with group   "
   ]
  },
  {
   "cell_type": "code",
   "execution_count": 5,
   "metadata": {},
   "outputs": [],
   "source": [
    "def calculate(name):\n",
    "    dframe = pd.read_excel(name)\n",
    "    dframe.fillna(0,inplace=True)\n",
    "    data=dframe[dframe['机房']!=0]\n",
    "    names_jf=set(data['机房'].tolist())\n",
    "    names_all_jf=(data['机房'].tolist())\n",
    "    times=0\n",
    "    jf=''\n",
    "    for i in names_jf:\n",
    "        temp=round(names_all_jf.count(i)/len(names_all_jf),2)\n",
    "        if(temp>times):\n",
    "            times=temp\n",
    "            jf=i\n",
    "    print(times)\n",
    "    print(jf)\n",
    "\n",
    "    return times,jf\n"
   ]
  },
  {
   "cell_type": "code",
   "execution_count": 17,
   "metadata": {},
   "outputs": [
    {
     "name": "stdout",
     "output_type": "stream",
     "text": [
      "长亭外，古道边，芳草天\n",
      "ZRM\n",
      "@我是机器人 你好\n",
      "ZRM:@我是机器人 你好\n"
     ]
    },
    {
     "name": "stderr",
     "output_type": "stream",
     "text": [
      "LOG OUT!\n"
     ]
    }
   ],
   "source": [
    "@bot.register(Group, TEXT)\n",
    "def group_info(msg):\n",
    "    # 获取当前群聊名字\n",
    "    group_name = msg.sender.name\n",
    "    print(group_name)\n",
    "    # 获取当前发送者名字\n",
    "    send_name = msg.member.name\n",
    "    print(send_name)\n",
    "    # 获取当前发送的信息内容\n",
    "    send_info = msg.text\n",
    "    print(send_info)\n",
    "    # 转化成可识别形式\n",
    "    send_info_str = str(send_name) + \":\" + str(send_info)\n",
    "    # 存储到redis\n",
    "    print(send_info_str)\n",
    "    group_info_store(send_info_str)\n",
    "    # 如果被选中就需要回答问题了\n",
    "    print('data')\n",
    "    print(send_info_str)\n",
    "    if msg.is_at:\n",
    "        print('1')\n",
    "        # info = msg.text\n",
    "        # username = msg.member.name\n",
    "        # user_info = str(username) + \":\" + str(info)\n",
    "        # group_info_store(user_info)\n",
    "        if (get_answer(send_info[:]) == None):\n",
    "            a = '换个问题吧'\n",
    "        else:\n",
    "            a = get_answer(send_info[:])\n",
    "            msg.chat.send(a)\n",
    "            #         print(bot.self.name)\n",
    "            myself_name = bot.self.name\n",
    "            myself_info = str(myself_name) + \":\" + str(a)\n",
    "            group_info_store(group_name,myself_info)\n",
    "    if '导出聊天记录' in send_info:\n",
    "        print('-------------导出中---------------')\n",
    "        username = msg.member.name\n",
    "        group_info_export(username)\n",
    "        msg.chat.send_file(username + '.csv')\n",
    "        print('-------------导出完成-------------')"
   ]
  },
  {
   "cell_type": "code",
   "execution_count": 7,
   "metadata": {},
   "outputs": [],
   "source": [
    "# # def add_manager_names(info):\n",
    "# #     try:\n",
    "# #         name = bot.friends().search(u'ZRM')[0]\n",
    "# #     except:\n",
    "# #         print('输入的名字有问题')\n",
    "names_list=[]\n",
    "my_friend = bot.friends().search('ZRM')[0]\n",
    "my_friend2 = bot.friends().search('沁心🌸☘')[0]\n",
    "names_list.append(my_friend)\n",
    "names_list.append(my_friend2)\n",
    "@bot.register(names_list)\n",
    "def reply_my_friend(msg):\n",
    "#     msg.get_file(msg.get)\n",
    "    if msg.type=='Attachment':\n",
    "        msg.get_file(msg.file_name)\n",
    "        msg.chat.send(msg.file_name+'文件接收完成')\n",
    "        x,y=calculate(msg.file_name)\n",
    "        msg.chat.send('数据解析完成')\n",
    "        string=str('最有可能出现问题机房:  ')+str(y)+'  发生概率是:  '+str(x)\n",
    "        msg.chat.send(string)\n",
    "    \n",
    "    if msg.text=='你好':\n",
    "        msg.chat.send(\"你好\")"
   ]
  },
  {
   "cell_type": "code",
   "execution_count": 8,
   "metadata": {},
   "outputs": [
    {
     "data": {
      "text/plain": [
       "[<Friend: 我是机器人>, <Friend: ZRM>, <Friend: 沁心🌸☘>]"
      ]
     },
     "execution_count": 8,
     "metadata": {},
     "output_type": "execute_result"
    }
   ],
   "source": [
    "bot.friends()"
   ]
  },
  {
   "cell_type": "code",
   "execution_count": 9,
   "metadata": {},
   "outputs": [
    {
     "name": "stdout",
     "output_type": "stream",
     "text": [
      "我是机器人\n",
      "ZRM\n",
      "沁心🌸☘\n"
     ]
    }
   ],
   "source": [
    "for i in (bot.friends()):\n",
    "    print(i.name)"
   ]
  },
  {
   "cell_type": "code",
   "execution_count": 10,
   "metadata": {},
   "outputs": [
    {
     "name": "stdout",
     "output_type": "stream",
     "text": [
      "长亭外，古道边，芳草天\n",
      "3组\n"
     ]
    }
   ],
   "source": [
    "for i in (bot.groups()):\n",
    "    print(i.name)"
   ]
  },
  {
   "cell_type": "code",
   "execution_count": null,
   "metadata": {},
   "outputs": [],
   "source": []
  }
 ],
 "metadata": {
  "kernelspec": {
   "display_name": "Python 3",
   "language": "python",
   "name": "python3"
  },
  "language_info": {
   "codemirror_mode": {
    "name": "ipython",
    "version": 3
   },
   "file_extension": ".py",
   "mimetype": "text/x-python",
   "name": "python",
   "nbconvert_exporter": "python",
   "pygments_lexer": "ipython3",
   "version": "3.6.13"
  }
 },
 "nbformat": 4,
 "nbformat_minor": 4
}
