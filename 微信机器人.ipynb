{
 "cells": [
  {
   "cell_type": "code",
   "execution_count": 2,
   "metadata": {},
   "outputs": [
    {
     "name": "stdout",
     "output_type": "stream",
     "text": [
      "List Trainer: [####################] 100%\n",
      "你好啊\n"
     ]
    }
   ],
   "source": [
    "from chatterbot import ChatBot\n",
    "from chatterbot.trainers import ListTrainer\n",
    " \n",
    "# Create a new chat bot named Charlie\n",
    "chatbot = ChatBot('Charlie')\n",
    " \n",
    "trainer = ListTrainer(chatbot)\n",
    " \n",
    "trainer.train([\n",
    "    \"你好\",\n",
    "    \"你是谁\",\n",
    "    \"你好啊\"\n",
    "])\n",
    " \n",
    "# Get a response to the input text 'I would like to book a flight.'\n",
    "response = chatbot.get_response('你是谁')\n",
    " \n",
    "print(response)\n",
    " \n",
    " "
   ]
  },
  {
   "cell_type": "code",
   "execution_count": 1,
   "metadata": {},
   "outputs": [
    {
     "name": "stdout",
     "output_type": "stream",
     "text": [
      "List Trainer: [####################] 100%\n"
     ]
    },
    {
     "ename": "KeyboardInterrupt",
     "evalue": "Interrupted by user",
     "output_type": "error",
     "traceback": [
      "\u001b[0;31m---------------------------------------------------------------------------\u001b[0m",
      "\u001b[0;31mKeyboardInterrupt\u001b[0m                         Traceback (most recent call last)",
      "\u001b[0;32m<ipython-input-1-46648466a0b8>\u001b[0m in \u001b[0;36m<module>\u001b[0;34m\u001b[0m\n\u001b[1;32m     42\u001b[0m \u001b[0;34m\u001b[0m\u001b[0m\n\u001b[1;32m     43\u001b[0m \u001b[0;32mwhile\u001b[0m \u001b[0;32mTrue\u001b[0m\u001b[0;34m:\u001b[0m\u001b[0;34m\u001b[0m\u001b[0;34m\u001b[0m\u001b[0m\n\u001b[0;32m---> 44\u001b[0;31m     \u001b[0mxx\u001b[0m\u001b[0;34m=\u001b[0m\u001b[0minput\u001b[0m\u001b[0;34m(\u001b[0m\u001b[0;34m)\u001b[0m\u001b[0;34m\u001b[0m\u001b[0;34m\u001b[0m\u001b[0m\n\u001b[0m\u001b[1;32m     45\u001b[0m     \u001b[0mresponse\u001b[0m\u001b[0;34m=\u001b[0m\u001b[0mbot\u001b[0m\u001b[0;34m.\u001b[0m\u001b[0mget_response\u001b[0m\u001b[0;34m(\u001b[0m\u001b[0mxx\u001b[0m\u001b[0;34m)\u001b[0m\u001b[0;34m\u001b[0m\u001b[0;34m\u001b[0m\u001b[0m\n\u001b[1;32m     46\u001b[0m     \u001b[0mprint\u001b[0m\u001b[0;34m(\u001b[0m\u001b[0mresponse\u001b[0m\u001b[0;34m)\u001b[0m\u001b[0;34m\u001b[0m\u001b[0;34m\u001b[0m\u001b[0m\n",
      "\u001b[0;32m~/opt/anaconda3/envs/python3.6/lib/python3.6/site-packages/ipykernel/kernelbase.py\u001b[0m in \u001b[0;36mraw_input\u001b[0;34m(self, prompt)\u001b[0m\n\u001b[1;32m    861\u001b[0m             \u001b[0mself\u001b[0m\u001b[0;34m.\u001b[0m\u001b[0m_parent_ident\u001b[0m\u001b[0;34m,\u001b[0m\u001b[0;34m\u001b[0m\u001b[0;34m\u001b[0m\u001b[0m\n\u001b[1;32m    862\u001b[0m             \u001b[0mself\u001b[0m\u001b[0;34m.\u001b[0m\u001b[0m_parent_header\u001b[0m\u001b[0;34m,\u001b[0m\u001b[0;34m\u001b[0m\u001b[0;34m\u001b[0m\u001b[0m\n\u001b[0;32m--> 863\u001b[0;31m             \u001b[0mpassword\u001b[0m\u001b[0;34m=\u001b[0m\u001b[0;32mFalse\u001b[0m\u001b[0;34m,\u001b[0m\u001b[0;34m\u001b[0m\u001b[0;34m\u001b[0m\u001b[0m\n\u001b[0m\u001b[1;32m    864\u001b[0m         )\n\u001b[1;32m    865\u001b[0m \u001b[0;34m\u001b[0m\u001b[0m\n",
      "\u001b[0;32m~/opt/anaconda3/envs/python3.6/lib/python3.6/site-packages/ipykernel/kernelbase.py\u001b[0m in \u001b[0;36m_input_request\u001b[0;34m(self, prompt, ident, parent, password)\u001b[0m\n\u001b[1;32m    902\u001b[0m             \u001b[0;32mexcept\u001b[0m \u001b[0mKeyboardInterrupt\u001b[0m\u001b[0;34m:\u001b[0m\u001b[0;34m\u001b[0m\u001b[0;34m\u001b[0m\u001b[0m\n\u001b[1;32m    903\u001b[0m                 \u001b[0;31m# re-raise KeyboardInterrupt, to truncate traceback\u001b[0m\u001b[0;34m\u001b[0m\u001b[0;34m\u001b[0m\u001b[0;34m\u001b[0m\u001b[0m\n\u001b[0;32m--> 904\u001b[0;31m                 \u001b[0;32mraise\u001b[0m \u001b[0mKeyboardInterrupt\u001b[0m\u001b[0;34m(\u001b[0m\u001b[0;34m\"Interrupted by user\"\u001b[0m\u001b[0;34m)\u001b[0m \u001b[0;32mfrom\u001b[0m \u001b[0;32mNone\u001b[0m\u001b[0;34m\u001b[0m\u001b[0;34m\u001b[0m\u001b[0m\n\u001b[0m\u001b[1;32m    905\u001b[0m             \u001b[0;32mexcept\u001b[0m \u001b[0mException\u001b[0m \u001b[0;32mas\u001b[0m \u001b[0me\u001b[0m\u001b[0;34m:\u001b[0m\u001b[0;34m\u001b[0m\u001b[0;34m\u001b[0m\u001b[0m\n\u001b[1;32m    906\u001b[0m                 \u001b[0mself\u001b[0m\u001b[0;34m.\u001b[0m\u001b[0mlog\u001b[0m\u001b[0;34m.\u001b[0m\u001b[0mwarning\u001b[0m\u001b[0;34m(\u001b[0m\u001b[0;34m\"Invalid Message:\"\u001b[0m\u001b[0;34m,\u001b[0m \u001b[0mexc_info\u001b[0m\u001b[0;34m=\u001b[0m\u001b[0;32mTrue\u001b[0m\u001b[0;34m)\u001b[0m\u001b[0;34m\u001b[0m\u001b[0;34m\u001b[0m\u001b[0m\n",
      "\u001b[0;31mKeyboardInterrupt\u001b[0m: Interrupted by user"
     ]
    }
   ],
   "source": [
    "# -*- coding: utf-8 -*-\n",
    "from chatterbot import ChatBot\n",
    "from chatterbot.trainers import ListTrainer\n",
    " \n",
    "# 构建ChatBot并指定\n",
    "bot = ChatBot(\n",
    "    'Default Response Example Bot',\n",
    "    storage_adapter='chatterbot.storage.SQLStorageAdapter',\n",
    "    logic_adapters=[\n",
    "        {\n",
    "            'import_path': 'chatterbot.logic.BestMatch'\n",
    "        },\n",
    "        {\n",
    "            'import_path': 'chatterbot.logic.BestMatch',\n",
    "            'threshold': 0.6,\n",
    "            'default_response': 'I am sorry, but I do not understand.'\n",
    "        }\n",
    "    ],\n",
    "    trainer='chatterbot.trainers.ListTrainer'\n",
    ")\n",
    "bot2=ListTrainer(bot)\n",
    "# 手动给定一点语料用于训练\n",
    "bot2.train([\n",
    "   'How can I help you?',\n",
    "   'I want to create a chat bot',\n",
    "   'Have you read the documentation?',\n",
    "   'No, I have not',\n",
    "   'This should help get you started: http://chatterbot.rtfd.org/en/latest/quickstart.html',\n",
    "    'fuck you',\n",
    "    '去你的，好好说话'\n",
    "])\n",
    "# 给定问题并取回结果\n",
    "# question = '你好'\n",
    "# print(question)\n",
    "# response = bot.get_response(question)\n",
    "# print(response)\n",
    "# print(\"\\n\")\n",
    "# question = '你是谁'\n",
    "# print(question)\n",
    "# response = bot.get_response(question)\n",
    "# print(response)\n",
    "\n",
    "while True:\n",
    "    xx=input()\n",
    "    response=bot.get_response(xx)\n",
    "    print(response)"
   ]
  },
  {
   "cell_type": "code",
   "execution_count": null,
   "metadata": {},
   "outputs": [
    {
     "name": "stdout",
     "output_type": "stream",
     "text": [
      "Training ai.yml: [####################] 100%\n",
      "Training botprofile.yml: [####################] 100%\n",
      "Training conversations.yml: [####################] 100%\n",
      "Training emotion.yml: [####################] 100%\n",
      "Training food.yml: [####################] 100%\n",
      "Training gossip.yml: [####################] 100%\n",
      "Training greetings.yml: [####################] 100%\n",
      "Training history.yml: [####################] 100%\n",
      "Training humor.yml: [####################] 100%\n",
      "Training literature.yml: [####################] 100%\n",
      "Training money.yml: [####################] 100%\n",
      "Training movies.yml: [####################] 100%\n",
      "Training politics.yml: [####################] 100%\n",
      "Training psychology.yml: [####################] 100%\n",
      "Training science.yml: [####################] 100%\n",
      "Training sports.yml: [####################] 100%\n",
      "Training trivia.yml: [####################] 100%\n",
      ">你好\n",
      "你是谁\n",
      ">我是你爸爸\n",
      "水的别称\n",
      ">我是你爹\n",
      "继续，问吧.\n",
      ">你叫什么名字\n",
      "即便假借特例的实用性之名,\n",
      ">我叫张润民\n",
      "什么是股市\n",
      ">你搞什么啊\n",
      "No, I have not\n",
      ">你会不会打篮球啊\n",
      "电力\n",
      ">你好笨啊\n",
      "你永远无法真正预测股市。\n",
      ">橘子\n",
      "不错\n",
      ">西瓜\n",
      "你如何运作?\n",
      ">你真笨\n",
      "你是没有吸引力\n",
      ">你可以做我女朋友么\n",
      "我当然。我不应该着急。\n",
      ">666\n",
      "HAL是活着\n",
      ">你真笨\n",
      "你听到新闻了吗?\n"
     ]
    }
   ],
   "source": [
    "# -*- coding: utf-8 -*-\n",
    "from chatterbot import ChatBot\n",
    "from chatterbot.trainers import ChatterBotCorpusTrainer\n",
    "\n",
    "chatbot = ChatBot(\"ChineseChatBot\")\n",
    "\n",
    "trainer = ChatterBotCorpusTrainer(chatbot)\n",
    "# 使用中文语料库训练它\n",
    "trainer.train(\"chatterbot.corpus.chinese\")\n",
    "\n",
    "# 开始对话\n",
    "while True:\n",
    "    print(chatbot.get_response(input(\">\")))\n"
   ]
  },
  {
   "cell_type": "code",
   "execution_count": 1,
   "metadata": {},
   "outputs": [
    {
     "name": "stdout",
     "output_type": "stream",
     "text": [
      "█\r"
     ]
    },
    {
     "name": "stderr",
     "output_type": "stream",
     "text": [
      "Getting uuid of QR code.\n",
      "Downloading QR code.\n",
      "Please scan the QR code to log in.\n",
      "Please press confirm on your phone.\n",
      "Loading the contact, this may take a little while.\n",
      "Login successfully as 测试用的\n"
     ]
    },
    {
     "name": "stdout",
     "output_type": "stream",
     "text": [
      "ZRM:@\n",
      "ZRM:导出聊天记录\n",
      "----导出中----\n",
      "ZRM:导出聊天记录\n",
      "ZRM:1\n",
      "-Y:??????\n",
      "ZRM:@\n",
      "ZRM:导出聊天记录\n",
      "ZRM:在测试\n",
      "ZRM:导出聊天记录\n",
      "----导出中----\n",
      "ZRM:导出聊天记录\n",
      "ZRM:1\n",
      "-Y:??????\n",
      "ZRM:@\n",
      "ZRM:导出聊天记录\n",
      "ZRM:在测试\n",
      "ZRM:导出聊天记录\n",
      "ZRM:删除聊天记录\n",
      "----删除完成----\n",
      "ZRM:导出聊天记录\n",
      "----导出中----\n",
      "ZRM:导出聊天记录\n",
      "ZRM:[皱眉]\n"
     ]
    }
   ],
   "source": [
    "# redis 测试\n",
    "import redis\n",
    "from wxpy import *\n",
    "# init redis\n",
    "r = redis.StrictRedis(host='localhost', port=6379, db=0,decode_responses=True)\n",
    "# init bot\n",
    "bot = Bot()\n",
    "# info store in redis as list\n",
    "def group_info_store(info):\n",
    "    r.rpush('group_info',info)\n",
    "# export group info\n",
    "def group_info_export():\n",
    "    size=r.llen(\"group_info\") \n",
    "    for i in range(0,size):\n",
    "        print(r.lindex(\"group_info\",i))\n",
    "# delete group info\n",
    "def remove_group_info():\n",
    "    size=r.llen(\"group_info\") \n",
    "    for i in range(0,size):\n",
    "        r.brpop('group_info')\n",
    "\n",
    "# deal info with group   \n",
    "@bot.register(Group,TEXT)\n",
    "def auto_accept_friends(msg):\n",
    "#     msg.chat.send(msg.text)\n",
    "    username=msg.member.name\n",
    "    info=msg.text\n",
    "    user_info=str(username)+\":\"+str(info)\n",
    "#     print(user_info)\n",
    "    \n",
    "    group_info_store(user_info)\n",
    "    \n",
    "    \n",
    "    if(info=='导出聊天记录'):\n",
    "        print('----导出中----')\n",
    "        group_info_export()\n",
    "        print('----导出完成----')\n",
    "    elif(info=='删除聊天记录'):\n",
    "        print('----删除中----')\n",
    "        remove_group_info()\n",
    "        print('----删除完成----')\n",
    "    \n",
    "    \n",
    "    \n",
    "\n",
    "    \n",
    "    \n",
    "\n",
    "    \n",
    "@bot.register(Friend,TEXT)\n",
    "def auto_accept_friends(msg):\n",
    "    msg.chat.send(msg.text)\n"
   ]
  },
  {
   "cell_type": "code",
   "execution_count": 2,
   "metadata": {},
   "outputs": [
    {
     "data": {
      "text/plain": [
       "'测试用的'"
      ]
     },
     "execution_count": 2,
     "metadata": {},
     "output_type": "execute_result"
    }
   ],
   "source": [
    "bot.self.name"
   ]
  },
  {
   "cell_type": "code",
   "execution_count": null,
   "metadata": {},
   "outputs": [],
   "source": []
  }
 ],
 "metadata": {
  "kernelspec": {
   "display_name": "Python 3",
   "language": "python",
   "name": "python3"
  },
  "language_info": {
   "codemirror_mode": {
    "name": "ipython",
    "version": 3
   },
   "file_extension": ".py",
   "mimetype": "text/x-python",
   "name": "python",
   "nbconvert_exporter": "python",
   "pygments_lexer": "ipython3",
   "version": "3.6.13"
  }
 },
 "nbformat": 4,
 "nbformat_minor": 4
}
